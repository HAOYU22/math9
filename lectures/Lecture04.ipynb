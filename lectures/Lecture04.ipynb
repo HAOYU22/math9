{
 "cells": [
  {
   "cell_type": "markdown",
   "metadata": {},
   "source": [
    "# Last time: \n",
    "\n",
    "* tracking variable names and their values \n",
    "* graphing\n",
    "* conditional statements\n",
    "* comparisons \n",
    "* boolean operations\n",
    "\n",
    "# Today: \n",
    "\n",
    "* While loops"
   ]
  },
  {
   "cell_type": "markdown",
   "metadata": {},
   "source": [
    "# While loops\n",
    "\n",
    "Very clever way to repeat actions. Syntax:\n",
    "\n",
    "``\n",
    "while <CONDITION FOR DOING THE NEXT ITERATION OF THE LOOP>:\n",
    "    <STUFF THAT WILL BE REPEATED IN EVERY ITERATION>\n",
    "``"
   ]
  },
  {
   "cell_type": "code",
   "execution_count": 1,
   "metadata": {},
   "outputs": [
    {
     "name": "stdout",
     "output_type": "stream",
     "text": [
      "0\n",
      "1\n",
      "2\n",
      "3\n",
      "4\n",
      "5\n",
      "6\n",
      "7\n",
      "8\n",
      "9\n"
     ]
    }
   ],
   "source": [
    "x = 0\n",
    "while x < 10:\n",
    "    print x\n",
    "    x = x + 1"
   ]
  },
  {
   "cell_type": "markdown",
   "metadata": {},
   "source": [
    "Shortcut: Instead of writing `x = x + 1`, we can write `x += 1`. So cool. "
   ]
  },
  {
   "cell_type": "code",
   "execution_count": 2,
   "metadata": {},
   "outputs": [
    {
     "name": "stdout",
     "output_type": "stream",
     "text": [
      "5050\n"
     ]
    }
   ],
   "source": [
    "# Let's use the cool shortcut while doing something a little more nice:\n",
    "# compute the sum of the first 100 numbers\n",
    "x = 0\n",
    "total = 0\n",
    "while x <= 100:\n",
    "    total += x\n",
    "    x = x + 1\n",
    "    \n",
    "print total"
   ]
  },
  {
   "cell_type": "markdown",
   "metadata": {},
   "source": [
    "Read the code and run it yourself, step by step, in your head and/or paper. \n"
   ]
  },
  {
   "cell_type": "markdown",
   "metadata": {},
   "source": [
    "The condition must be `True` for the loop to run the first time:"
   ]
  },
  {
   "cell_type": "code",
   "execution_count": 3,
   "metadata": {
    "collapsed": true
   },
   "outputs": [],
   "source": [
    "# there will be no output from this\n",
    "while False:\n",
    "    print 'This line will never print'"
   ]
  },
  {
   "cell_type": "markdown",
   "metadata": {},
   "source": [
    "If the condition is always true, then you get an infinite loop!\n",
    "\n",
    "You will know if Python is running an infinite loop if you see:\n",
    "* 'In [*]' next to a cell \n",
    "or\n",
    "* a filled circle next to the word 'Python' in top left corner of Notebook\n"
   ]
  },
  {
   "cell_type": "code",
   "execution_count": 1,
   "metadata": {
    "collapsed": true
   },
   "outputs": [],
   "source": [
    "# DON'T RUN (or be ready to press stop by choosing Kernal->Interrupt from menu bar)\n",
    "x = 0\n",
    "while x == 0:\n",
    "    print 'All work and no play makes Jack a dull boy.'"
   ]
  },
  {
   "cell_type": "markdown",
   "metadata": {},
   "source": [
    "Indentation is important to see what is in the loop:"
   ]
  },
  {
   "cell_type": "code",
   "execution_count": 2,
   "metadata": {
    "collapsed": true
   },
   "outputs": [],
   "source": [
    "# Don't run this or be ready to press stop. Why does it do an infinite loop?\n",
    "x = 0\n",
    "while x < 10:\n",
    "    print x\n",
    "x = x + 1"
   ]
  },
  {
   "cell_type": "markdown",
   "metadata": {},
   "source": [
    "The unindented part is not within the loop, so x is never increased during the loop. So `x<10` is always `True`, and the loop never ends. "
   ]
  },
  {
   "cell_type": "markdown",
   "metadata": {},
   "source": [
    "## Application of while loops: Checking for primeness\n",
    "We want to write a function called `isprime` that checks if its input parameter is prime. The function should return `True` if the number is prime, `False` otherwise. \n",
    "\n"
   ]
  },
  {
   "cell_type": "markdown",
   "metadata": {},
   "source": [
    "What you need to do first is to write down the definition of a prime number so that you can start to visualize how to code it up. A number $n$ is prime if $n>1$ and none of $2, 3, \\ldots , n − 1$ divides n (without remainder). For example, $n=2$ is prime because then the set $\\{ 2, 3, \\ldots , n − 1 \\}$ is empty. Another example is 3, which is prime because then the set is $\\{ 2 \\}$ and 2 does not divide 3 (without remainder). "
   ]
  },
  {
   "cell_type": "markdown",
   "metadata": {},
   "source": [
    "Again, either try to write it yourself, or look through the code and run it in your head or write out on a sheet of paper the values acquired by its variables during execution."
   ]
  },
  {
   "cell_type": "code",
   "execution_count": 1,
   "metadata": {
    "collapsed": true
   },
   "outputs": [],
   "source": [
    "def isprime(n):\n",
    "    if n <= 1:\n",
    "        return False\n",
    "    d = 2\n",
    "    while d < n:\n",
    "        if n % d  == 0:\n",
    "            return False\n",
    "        d += 1\n",
    "    return True"
   ]
  },
  {
   "cell_type": "code",
   "execution_count": 2,
   "metadata": {},
   "outputs": [
    {
     "data": {
      "text/plain": [
       "True"
      ]
     },
     "execution_count": 2,
     "metadata": {},
     "output_type": "execute_result"
    }
   ],
   "source": [
    "isprime(5)"
   ]
  },
  {
   "cell_type": "code",
   "execution_count": 3,
   "metadata": {},
   "outputs": [
    {
     "data": {
      "text/plain": [
       "True"
      ]
     },
     "execution_count": 3,
     "metadata": {},
     "output_type": "execute_result"
    }
   ],
   "source": [
    "isprime(7)"
   ]
  },
  {
   "cell_type": "code",
   "execution_count": 4,
   "metadata": {},
   "outputs": [
    {
     "data": {
      "text/plain": [
       "False"
      ]
     },
     "execution_count": 4,
     "metadata": {},
     "output_type": "execute_result"
    }
   ],
   "source": [
    "isprime(57)    # it's 3x19"
   ]
  },
  {
   "cell_type": "markdown",
   "metadata": {},
   "source": [
    "Can we make this more efficient? Yes, we don't need to check all the way up to `n-1`, we could actually check up to $\\sqrt{n}$ because if there is a factor larger than $\\sqrt{n}$, then there is also a factor smaller than $\\sqrt{n}$, namely $\\frac{n}{\\sqrt{n}}$. An example is $16 = 4\\times4 = 8\\times 2$. Note that the *square root* arises because we only need to test for the product of *two* factors (e.g. if we were testing for the product of three factors, then we would use the cube root). "
   ]
  },
  {
   "cell_type": "code",
   "execution_count": 5,
   "metadata": {
    "collapsed": true
   },
   "outputs": [],
   "source": [
    "def isprime(n):\n",
    "    if n <= 1:\n",
    "        return False\n",
    "    d = 2\n",
    "    while d*d <= n:    # so clever!!!\n",
    "        if n % d  == 0:\n",
    "            return False\n",
    "        d += 1\n",
    "    return True"
   ]
  },
  {
   "cell_type": "code",
   "execution_count": 7,
   "metadata": {},
   "outputs": [
    {
     "name": "stdout",
     "output_type": "stream",
     "text": [
      "True\n",
      "True\n",
      "False\n"
     ]
    }
   ],
   "source": [
    "print isprime(5)\n",
    "print isprime(7)\n",
    "print isprime(57)"
   ]
  },
  {
   "cell_type": "markdown",
   "metadata": {},
   "source": [
    "## Exercises"
   ]
  },
  {
   "cell_type": "markdown",
   "metadata": {},
   "source": [
    "**Question**: Using while loops, implement the integer division function `//` as `division(a,b)`. Make sure you are doing the negative number examples correctly. "
   ]
  },
  {
   "cell_type": "code",
   "execution_count": 8,
   "metadata": {},
   "outputs": [
    {
     "data": {
      "text/plain": [
       "4"
      ]
     },
     "execution_count": 8,
     "metadata": {},
     "output_type": "execute_result"
    }
   ],
   "source": [
    "# Solution \n",
    "def division(a, b): \n",
    "    a_abs = abs(a)\n",
    "    b_abs = abs(b)\n",
    "    sum_of_bs = b_abs\n",
    "    counter = 0\n",
    "    while sum_of_bs <= a_abs: \n",
    "        counter += 1\n",
    "        sum_of_bs += b_abs\n",
    "    if a*b > 0: \n",
    "        return counter\n",
    "    else: \n",
    "        return -counter\n",
    "\n",
    "division(-12,-3)"
   ]
  },
  {
   "cell_type": "markdown",
   "metadata": {},
   "source": [
    "**Question**: Write a loop to print the first 100 prime numbers:"
   ]
  },
  {
   "cell_type": "code",
   "execution_count": 11,
   "metadata": {
    "scrolled": true
   },
   "outputs": [
    {
     "name": "stdout",
     "output_type": "stream",
     "text": [
      "2\n",
      "3\n",
      "5\n",
      "7\n",
      "11\n",
      "13\n",
      "17\n",
      "19\n",
      "23\n",
      "29\n",
      "31\n",
      "37\n",
      "41\n",
      "43\n",
      "47\n",
      "53\n",
      "59\n",
      "61\n",
      "67\n",
      "71\n",
      "73\n",
      "79\n",
      "83\n",
      "89\n",
      "97\n",
      "101\n",
      "103\n",
      "107\n",
      "109\n",
      "113\n",
      "127\n",
      "131\n",
      "137\n",
      "139\n",
      "149\n",
      "151\n",
      "157\n",
      "163\n",
      "167\n",
      "173\n",
      "179\n",
      "181\n",
      "191\n",
      "193\n",
      "197\n",
      "199\n",
      "211\n",
      "223\n",
      "227\n",
      "229\n",
      "233\n",
      "239\n",
      "241\n",
      "251\n",
      "257\n",
      "263\n",
      "269\n",
      "271\n",
      "277\n",
      "281\n",
      "283\n",
      "293\n",
      "307\n",
      "311\n",
      "313\n",
      "317\n",
      "331\n",
      "337\n",
      "347\n",
      "349\n",
      "353\n",
      "359\n",
      "367\n",
      "373\n",
      "379\n",
      "383\n",
      "389\n",
      "397\n",
      "401\n",
      "409\n",
      "419\n",
      "421\n",
      "431\n",
      "433\n",
      "439\n",
      "443\n",
      "449\n",
      "457\n",
      "461\n",
      "463\n",
      "467\n",
      "479\n",
      "487\n",
      "491\n",
      "499\n",
      "503\n",
      "509\n",
      "521\n",
      "523\n",
      "541\n",
      "547\n"
     ]
    }
   ],
   "source": [
    "# Solution \n",
    "n = 0\n",
    "counter = 0\n",
    "while counter <= 100: \n",
    "    if isprime(n): \n",
    "        print n\n",
    "        counter += 1\n",
    "    n += 1"
   ]
  },
  {
   "cell_type": "markdown",
   "metadata": {},
   "source": [
    "**Question**: Estimate $\\pi$ by adding the first 1000 terms in the formula: $$\\pi/4 = 1 - 1/3 + 1/5 - 1/7 + ...$$ compare the answer to the built-in `math.pi`. (By the way, this comes from the Taylor expansion of arctan)"
   ]
  }
 ],
 "metadata": {
  "kernelspec": {
   "display_name": "Python 2",
   "language": "python",
   "name": "python2"
  },
  "language_info": {
   "codemirror_mode": {
    "name": "ipython",
    "version": 2
   },
   "file_extension": ".py",
   "mimetype": "text/x-python",
   "name": "python",
   "nbconvert_exporter": "python",
   "pygments_lexer": "ipython2",
   "version": "2.7.14"
  }
 },
 "nbformat": 4,
 "nbformat_minor": 2
}
